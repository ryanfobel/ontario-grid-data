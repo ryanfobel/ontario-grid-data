{
 "cells": [
  {
   "attachments": {},
   "cell_type": "markdown",
   "metadata": {},
   "source": [
    "[![Binder](https://mybinder.org/badge_logo.svg)](https://mybinder.org/v2/gh/ryanfobel/gridwatch-history/main)\n",
    "\n",
    "# Gridwatch history\n",
    "\n",
    "This package downloads hourly data on the Ontario electricity grid from https://gridwatch.ca/ (available as `.csv` files in the [data](https://github.com/ryanfobel/gridwatch-history/blob/main/data/) directory). This provides insight into how Ontario's power generation mix changes over time (e.g., how much power is provided by nuclear, hydro, wind, solar, biofuel and natural gas) and can be used to estimate the CO<sub>2</sub> intensity (i.e., the amount of CO<sub>2</sub> emissions generated per kWh of electricity) as a function of time. If you have access to [hourly electricity use](https://github.com/ryanfobel/utility-bill-scraper) (e.g., provided by many utilities), you can use this data to get a more accurate estimate of your carbon footprint and can measure the impact of shifting electricity use to times when the grid is \"cleaner\" (e.g., when it is primarily powered by zero-emission sources).\n",
    "\n",
    "![CO2 intensity](images/ontario_co2_intensity.svg)\n",
    "![Power generation by source](images/ontario_power_generation_by_source.svg)\n",
    "\n",
    "## Contributors\n",
    "\n",
    "Ryan Fobel ([@ryanfobel](https://github.com/ryanfobel))"
   ]
  },
  {
   "cell_type": "markdown",
   "metadata": {},
   "source": []
  }
 ],
 "metadata": {
  "kernelspec": {
   "display_name": "Python 3",
   "language": "python",
   "name": "python3"
  },
  "language_info": {
   "codemirror_mode": {
    "name": "ipython",
    "version": 3
   },
   "file_extension": ".py",
   "mimetype": "text/x-python",
   "name": "python",
   "nbconvert_exporter": "python",
   "pygments_lexer": "ipython3",
   "version": "3.6.13"
  }
 },
 "nbformat": 4,
 "nbformat_minor": 4
}
